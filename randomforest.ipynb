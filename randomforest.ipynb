{
  "nbformat": 4,
  "nbformat_minor": 0,
  "metadata": {
    "colab": {
      "name": "randomforest",
      "provenance": [],
      "collapsed_sections": [],
      "include_colab_link": true
    },
    "kernelspec": {
      "name": "python3",
      "display_name": "Python 3"
    }
  },
  "cells": [
    {
      "cell_type": "markdown",
      "metadata": {
        "id": "view-in-github",
        "colab_type": "text"
      },
      "source": [
        "<a href=\"https://colab.research.google.com/github/SandeepNidumukkala/REBOOT-BOX-PLOT-FOR-EDUCATION/blob/master/randomforest.ipynb\" target=\"_parent\"><img src=\"https://colab.research.google.com/assets/colab-badge.svg\" alt=\"Open In Colab\"/></a>"
      ]
    },
    {
      "cell_type": "code",
      "metadata": {
        "id": "0aGn06SvYo48",
        "colab_type": "code",
        "colab": {}
      },
      "source": [
        "import sys\n",
        "import sklearn\n",
        "import numpy as np\n",
        "import zipfile\n",
        "import pandas as pd\n",
        "import matplotlib as plt\n",
        "from sklearn.preprocessing import LabelEncoder,OneHotEncoder\n"
      ],
      "execution_count": 0,
      "outputs": []
    },
    {
      "cell_type": "code",
      "metadata": {
        "id": "YJnRrd-hWRLt",
        "colab_type": "code",
        "colab": {}
      },
      "source": [
        "import urllib.request"
      ],
      "execution_count": 0,
      "outputs": []
    },
    {
      "cell_type": "code",
      "metadata": {
        "id": "3qMzGJo3WgEt",
        "colab_type": "code",
        "colab": {}
      },
      "source": [
        "trainUrl = 'https://s3.amazonaws.com/drivendata-prod/data/4/public/81e8f2de-9915-4934-b9ae-9705685c9d50.csv'"
      ],
      "execution_count": 0,
      "outputs": []
    },
    {
      "cell_type": "code",
      "metadata": {
        "id": "wWthmGZdWPYu",
        "colab_type": "code",
        "colab": {}
      },
      "source": [
        "testUrl = \"https://s3.amazonaws.com/drivendata-prod/data/4/public/d0fcd6d3-5bc5-4869-b4e6-d12ecb2ff517.csv\""
      ],
      "execution_count": 0,
      "outputs": []
    },
    {
      "cell_type": "code",
      "metadata": {
        "id": "-hfqW221WqSi",
        "colab_type": "code",
        "colab": {}
      },
      "source": [
        "with urllib.request.urlopen(trainUrl) as dl_file:\n",
        "  train = pd.read_csv(dl_file)"
      ],
      "execution_count": 0,
      "outputs": []
    },
    {
      "cell_type": "code",
      "metadata": {
        "id": "2Pc0KN4jWGo7",
        "colab_type": "code",
        "outputId": "185e3f1c-9e49-45ce-f78f-3ed8cd63a907",
        "colab": {
          "base_uri": "https://localhost:8080/",
          "height": 74
        }
      },
      "source": [
        "with urllib.request.urlopen(testUrl) as dl_file:\n",
        "  test = pd.read_csv(dl_file)"
      ],
      "execution_count": 0,
      "outputs": [
        {
          "output_type": "stream",
          "text": [
            "/usr/local/lib/python3.6/dist-packages/IPython/core/interactiveshell.py:2718: DtypeWarning: Columns (5,11) have mixed types.Specify dtype option on import or set low_memory=False.\n",
            "  interactivity=interactivity, compiler=compiler, result=result)\n"
          ],
          "name": "stderr"
        }
      ]
    },
    {
      "cell_type": "code",
      "metadata": {
        "id": "gPdVF96mZbwm",
        "colab_type": "code",
        "colab": {}
      },
      "source": [
        "training_data = train[['Facility_or_Department', 'Function_Description','Fund_Description',\n",
        "                       'Job_Title_Description', 'Location_Description','Object_Description',\n",
        "                       'Position_Extra', 'Program_Description', 'SubFund_Description',\n",
        "                       'Sub_Object_Description', 'Text_1', 'Text_2','Text_3','Text_4', 'Total','FTE']]\n",
        "\n",
        "labels = (train[['Function','Object_Type','Operating_Status','Position_Type','Pre_K', 'Reporting',\n",
        "                'Sharing','Student_Type', 'Use']])\n",
        "\n",
        "test_data = test[['Facility_or_Department', 'Function_Description','Fund_Description',\n",
        "                       'Job_Title_Description', 'Location_Description','Object_Description',\n",
        "                       'Position_Extra', 'Program_Description', 'SubFund_Description',\n",
        "                       'Sub_Object_Description', 'Text_1', 'Text_2','Text_3','Text_4', 'Total','FTE']]"
      ],
      "execution_count": 0,
      "outputs": []
    },
    {
      "cell_type": "code",
      "metadata": {
        "id": "Yi4lCjYubmT2",
        "colab_type": "code",
        "colab": {}
      },
      "source": [
        "labels_fields=['Function','Object_Type','Operating_Status','Position_Type','Pre_K', 'Reporting',\n",
        "                'Sharing','Student_Type', 'Use']"
      ],
      "execution_count": 0,
      "outputs": []
    },
    {
      "cell_type": "code",
      "metadata": {
        "id": "hp3lGGIbZgrF",
        "colab_type": "code",
        "colab": {}
      },
      "source": [
        "training_data=training_data.drop(['Total'],axis=1)\n",
        "training_data=training_data.drop(['FTE'],axis=1)\n",
        "\n",
        "test_data=test_data.drop(['Total'], axis = 1)\n",
        "test_data=test_data.drop(['FTE'], axis = 1)"
      ],
      "execution_count": 0,
      "outputs": []
    },
    {
      "cell_type": "code",
      "metadata": {
        "id": "YEA46DRlZ3Oj",
        "colab_type": "code",
        "outputId": "361ae0d6-6a3d-44f9-e6a4-1049cfff4337",
        "colab": {
          "base_uri": "https://localhost:8080/",
          "height": 237
        }
      },
      "source": [
        "for i in range(training_data.shape[1]):\n",
        "    labelencoder_X=LabelEncoder();\n",
        "    # type(training_data.iloc[:,i])\n",
        "    training_data.iloc[:,i] = training_data.iloc[:,i].astype(str)\n",
        "    training_data.iloc[:,i] = training_data.iloc[:,i].str.replace('[^\\w\\s]','')\n",
        "    training_data.iloc[:,i] = labelencoder_X.fit_transform(training_data.iloc[:,i])\n",
        "\n",
        "for i in range(labels.shape[1]):\n",
        "    labelencoder_X=LabelEncoder();\n",
        "    labels.iloc[:,i] = labels.iloc[:,i].astype(str)\n",
        "    labels.iloc[:,i] = labels.iloc[:,i].str.replace('[^\\w\\s]','')\n",
        "    labels.iloc[:,i] = labelencoder_X.fit_transform(labels.iloc[:,i])\n",
        "\n",
        "for i in range(test_data.shape[1]):\n",
        "    labelencoder_X=LabelEncoder();\n",
        "    test_data.iloc[:,i] = test_data.iloc[:,i].astype(str)\n",
        "    test_data.iloc[:,i] = test_data.iloc[:,i].str.replace('[^\\w\\s]','')\n",
        "    test_data.iloc[:,i] = labelencoder_X.fit_transform(test_data.iloc[:,i])\n"
      ],
      "execution_count": 0,
      "outputs": [
        {
          "output_type": "stream",
          "text": [
            "/usr/local/lib/python3.6/dist-packages/pandas/core/indexing.py:1048: SettingWithCopyWarning: \n",
            "A value is trying to be set on a copy of a slice from a DataFrame.\n",
            "Try using .loc[row_indexer,col_indexer] = value instead\n",
            "\n",
            "See the caveats in the documentation: https://pandas.pydata.org/pandas-docs/stable/user_guide/indexing.html#returning-a-view-versus-a-copy\n",
            "  self.obj[item_labels[indexer[info_axis]]] = value\n",
            "/usr/local/lib/python3.6/dist-packages/pandas/core/indexing.py:966: SettingWithCopyWarning: \n",
            "A value is trying to be set on a copy of a slice from a DataFrame.\n",
            "Try using .loc[row_indexer,col_indexer] = value instead\n",
            "\n",
            "See the caveats in the documentation: https://pandas.pydata.org/pandas-docs/stable/user_guide/indexing.html#returning-a-view-versus-a-copy\n",
            "  self.obj[item] = s\n"
          ],
          "name": "stderr"
        }
      ]
    },
    {
      "cell_type": "code",
      "metadata": {
        "id": "w8SqJ2-2Z_7W",
        "colab_type": "code",
        "outputId": "2fead972-e18d-4f66-a869-58d35f829e20",
        "colab": {
          "base_uri": "https://localhost:8080/",
          "height": 35
        }
      },
      "source": [
        "from sklearn.ensemble import RandomForestClassifier\n",
        "import keras\n",
        "from sklearn.model_selection import train_test_split\n",
        "from sklearn.preprocessing import StandardScaler\n",
        "# import sklearn as sc\n",
        "from sklearn import metrics\n",
        "import statistics"
      ],
      "execution_count": 0,
      "outputs": [
        {
          "output_type": "stream",
          "text": [
            "Using TensorFlow backend.\n"
          ],
          "name": "stderr"
        }
      ]
    },
    {
      "cell_type": "code",
      "metadata": {
        "id": "WzxrX-_EaYZ9",
        "colab_type": "code",
        "outputId": "74e9042c-a0dd-4677-d01a-4af550c95772",
        "colab": {
          "base_uri": "https://localhost:8080/",
          "height": 172
        }
      },
      "source": [
        "print(np.shape(test_data))"
      ],
      "execution_count": 0,
      "outputs": [
        {
          "output_type": "error",
          "ename": "NameError",
          "evalue": "ignored",
          "traceback": [
            "\u001b[0;31m---------------------------------------------------------------------------\u001b[0m",
            "\u001b[0;31mNameError\u001b[0m                                 Traceback (most recent call last)",
            "\u001b[0;32m<ipython-input-2-b7cf61eb3db5>\u001b[0m in \u001b[0;36m<module>\u001b[0;34m()\u001b[0m\n\u001b[0;32m----> 1\u001b[0;31m \u001b[0mprint\u001b[0m\u001b[0;34m(\u001b[0m\u001b[0mnp\u001b[0m\u001b[0;34m.\u001b[0m\u001b[0mshape\u001b[0m\u001b[0;34m(\u001b[0m\u001b[0mtest_data\u001b[0m\u001b[0;34m)\u001b[0m\u001b[0;34m)\u001b[0m\u001b[0;34m\u001b[0m\u001b[0;34m\u001b[0m\u001b[0m\n\u001b[0m",
            "\u001b[0;31mNameError\u001b[0m: name 'np' is not defined"
          ]
        }
      ]
    },
    {
      "cell_type": "code",
      "metadata": {
        "id": "8baTSNbOYbN5",
        "colab_type": "code",
        "colab": {}
      },
      "source": [
        "with urllib.request.urlopen(testUrl) as dl_file:\n",
        "  test1 = pd.read_csv(dl_file)"
      ],
      "execution_count": 0,
      "outputs": []
    },
    {
      "cell_type": "code",
      "metadata": {
        "id": "3fUXj5iWs9t6",
        "colab_type": "code",
        "outputId": "41862f48-3e5a-41aa-8b33-7e64bade22ab",
        "colab": {
          "base_uri": "https://localhost:8080/",
          "height": 71
        }
      },
      "source": [
        "# test1=pd.read_csv('/content/test_data.csv')"
      ],
      "execution_count": 0,
      "outputs": [
        {
          "output_type": "stream",
          "text": [
            "/usr/local/lib/python3.6/dist-packages/IPython/core/interactiveshell.py:2718: DtypeWarning: Columns (5,11) have mixed types.Specify dtype option on import or set low_memory=False.\n",
            "  interactivity=interactivity, compiler=compiler, result=result)\n"
          ],
          "name": "stderr"
        }
      ]
    },
    {
      "cell_type": "code",
      "metadata": {
        "id": "_jVGBLP-YqdB",
        "colab_type": "code",
        "outputId": "bde0ae75-bc93-492a-b9bc-b0c65a3e0263",
        "colab": {
          "base_uri": "https://localhost:8080/",
          "height": 119
        }
      },
      "source": [
        "test.columns"
      ],
      "execution_count": 0,
      "outputs": [
        {
          "output_type": "execute_result",
          "data": {
            "text/plain": [
              "Index(['Unnamed: 0', 'Object_Description', 'Program_Description',\n",
              "       'SubFund_Description', 'Job_Title_Description',\n",
              "       'Facility_or_Department', 'Sub_Object_Description',\n",
              "       'Location_Description', 'FTE', 'Function_Description', 'Position_Extra',\n",
              "       'Text_4', 'Total', 'Text_2', 'Text_3', 'Fund_Description', 'Text_1'],\n",
              "      dtype='object')"
            ]
          },
          "metadata": {
            "tags": []
          },
          "execution_count": 17
        }
      ]
    },
    {
      "cell_type": "code",
      "metadata": {
        "id": "O0PQYClbZJAZ",
        "colab_type": "code",
        "colab": {}
      },
      "source": [
        "test = test.rename(columns={'Unnamed: 0': 'Identification_number'})"
      ],
      "execution_count": 0,
      "outputs": []
    },
    {
      "cell_type": "code",
      "metadata": {
        "id": "KNwNCtmStHlF",
        "colab_type": "code",
        "colab": {}
      },
      "source": [
        "test_data1 = test[['Identification_number','Facility_or_Department', 'Function_Description','Fund_Description',\n",
        "                       'Job_Title_Description', 'Location_Description','Object_Description',\n",
        "                       'Position_Extra', 'Program_Description', 'SubFund_Description',\n",
        "                       'Sub_Object_Description', 'Text_1', 'Text_2','Text_3','Text_4', 'Total','FTE']]\n",
        "labels1 = (train[['Function','Object_Type','Operating_Status','Position_Type','Pre_K', 'Reporting',\n",
        "                'Sharing','Student_Type', 'Use']])"
      ],
      "execution_count": 0,
      "outputs": []
    },
    {
      "cell_type": "code",
      "metadata": {
        "id": "zTSS67UBtviE",
        "colab_type": "code",
        "colab": {}
      },
      "source": [
        "test_data_pred=test_data1.iloc[:,0].values"
      ],
      "execution_count": 0,
      "outputs": []
    },
    {
      "cell_type": "code",
      "metadata": {
        "id": "zkrUm38xyT55",
        "colab_type": "code",
        "outputId": "b75b8c4a-fcbb-40a1-c04e-1b77f7d45f77",
        "colab": {
          "base_uri": "https://localhost:8080/",
          "height": 34
        }
      },
      "source": [
        "test_data_pred"
      ],
      "execution_count": 0,
      "outputs": [
        {
          "output_type": "execute_result",
          "data": {
            "text/plain": [
              "array([180042,  28872, 186915, ..., 232204, 171685, 249087])"
            ]
          },
          "metadata": {
            "tags": []
          },
          "execution_count": 21
        }
      ]
    },
    {
      "cell_type": "code",
      "metadata": {
        "id": "zjHyHRt4tTx8",
        "colab_type": "code",
        "outputId": "16fa5483-6a19-451a-e925-77904a9075d2",
        "colab": {
          "base_uri": "https://localhost:8080/",
          "height": 224
        }
      },
      "source": [
        "output_fields=['']\n",
        "for i in range(9):\n",
        "  y=labels1.iloc[:,i].values\n",
        "  unique=np.unique(y)\n",
        "  print(np.shape(unique))\n",
        "  str=labels_fields[i]\n",
        "  for i in unique:\n",
        "    output_fields.append(str+'_'+i)\n",
        "print(output_fields)\n",
        "print(len(output_fields)) "
      ],
      "execution_count": 0,
      "outputs": [
        {
          "output_type": "stream",
          "text": [
            "(37,)\n",
            "(11,)\n",
            "(3,)\n",
            "(25,)\n",
            "(3,)\n",
            "(3,)\n",
            "(5,)\n",
            "(9,)\n",
            "(8,)\n",
            "['', 'Function_Aides Compensation', 'Function_Career & Academic Counseling', 'Function_Communications', 'Function_Curriculum Development', 'Function_Data Processing & Information Services', 'Function_Development & Fundraising', 'Function_Enrichment', 'Function_Extended Time & Tutoring', 'Function_Facilities & Maintenance', 'Function_Facilities Planning', 'Function_Finance, Budget, Purchasing & Distribution', 'Function_Food Services', 'Function_Governance', 'Function_Human Resources', 'Function_Instructional Materials & Supplies', 'Function_Insurance', 'Function_Legal', 'Function_Library & Media', 'Function_NO_LABEL', 'Function_Other Compensation', 'Function_Other Non-Compensation', 'Function_Parent & Community Relations', 'Function_Physical Health & Services', 'Function_Professional Development', 'Function_Recruitment', 'Function_Research & Accountability', 'Function_School Administration', 'Function_School Supervision', 'Function_Security & Safety', 'Function_Social & Emotional', 'Function_Special Population Program Management & Support', 'Function_Student Assignment', 'Function_Student Transportation', 'Function_Substitute Compensation', 'Function_Teacher Compensation', 'Function_Untracked Budget Set-Aside', 'Function_Utilities', 'Object_Type_Base Salary/Compensation', 'Object_Type_Benefits', 'Object_Type_Contracted Services', 'Object_Type_Equipment & Equipment Lease', 'Object_Type_NO_LABEL', 'Object_Type_Other Compensation/Stipend', 'Object_Type_Other Non-Compensation', 'Object_Type_Rent/Utilities', 'Object_Type_Substitute Compensation', 'Object_Type_Supplies/Materials', 'Object_Type_Travel & Conferences', 'Operating_Status_Non-Operating', 'Operating_Status_Operating, Not PreK-12', 'Operating_Status_PreK-12 Operating', 'Position_Type_(Exec) Director', 'Position_Type_Area Officers', 'Position_Type_Club Advisor/Coach', 'Position_Type_Coordinator/Manager', 'Position_Type_Custodian', 'Position_Type_Guidance Counselor', 'Position_Type_Instructional Coach', 'Position_Type_Librarian', 'Position_Type_NO_LABEL', 'Position_Type_Non-Position', 'Position_Type_Nurse', 'Position_Type_Nurse Aide', 'Position_Type_Occupational Therapist', 'Position_Type_Other', 'Position_Type_Physical Therapist', 'Position_Type_Principal', 'Position_Type_Psychologist', 'Position_Type_School Monitor/Security', 'Position_Type_Sec/Clerk/Other Admin', 'Position_Type_Social Worker', 'Position_Type_Speech Therapist', 'Position_Type_Substitute', 'Position_Type_TA', 'Position_Type_Teacher', 'Position_Type_Vice Principal', 'Pre_K_NO_LABEL', 'Pre_K_Non PreK', 'Pre_K_PreK', 'Reporting_NO_LABEL', 'Reporting_Non-School', 'Reporting_School', 'Sharing_Leadership & Management', 'Sharing_NO_LABEL', 'Sharing_School Reported', 'Sharing_School on Central Budgets', 'Sharing_Shared Services', 'Student_Type_Alternative', 'Student_Type_At Risk', 'Student_Type_ELL', 'Student_Type_Gifted', 'Student_Type_NO_LABEL', 'Student_Type_Poverty', 'Student_Type_PreK', 'Student_Type_Special Education', 'Student_Type_Unspecified', 'Use_Business Services', 'Use_ISPD', 'Use_Instruction', 'Use_Leadership', 'Use_NO_LABEL', 'Use_O&M', 'Use_Pupil Services & Enrichment', 'Use_Untracked Budget Set-Aside']\n",
            "105\n"
          ],
          "name": "stdout"
        }
      ]
    },
    {
      "cell_type": "code",
      "metadata": {
        "id": "bGi_2loeuNh0",
        "colab_type": "code",
        "outputId": "4998d346-b7d2-4b2e-a618-aeb68cd27b94",
        "colab": {
          "base_uri": "https://localhost:8080/",
          "height": 34
        }
      },
      "source": [
        "test_data_pred.resize((50064,1))\n",
        "np.shape(test_data_pred)\n"
      ],
      "execution_count": 0,
      "outputs": [
        {
          "output_type": "execute_result",
          "data": {
            "text/plain": [
              "(50064, 1)"
            ]
          },
          "metadata": {
            "tags": []
          },
          "execution_count": 23
        }
      ]
    },
    {
      "cell_type": "code",
      "metadata": {
        "id": "fvtlCV9Fafbo",
        "colab_type": "code",
        "outputId": "cf822101-0a7a-4a5f-c2bc-ce70c24cd502",
        "colab": {
          "base_uri": "https://localhost:8080/",
          "height": 306
        }
      },
      "source": [
        "acc=[]\n",
        "# test_data_pred=np.reshape(50064,1)\n",
        "prob=[]\n",
        "for i in range(0,9):\n",
        "  #retrieve every value of training data\n",
        "  x=training_data.iloc[:,0:14].values\n",
        "  # print(\"x size\",len(x),x[0])\n",
        "  #retriving the values of first label\n",
        "  y=labels.iloc[:,i].values\n",
        "  print(np.size(y))\n",
        "  sc=StandardScaler()\n",
        "  X_train,X_test,Y_train,Y_test=train_test_split(x,y,test_size=0.3)\n",
        "  X_train=sc.fit_transform(X_train)\n",
        "  X_test=sc.fit_transform(X_test)\n",
        "  test_data=sc.fit_transform(test_data)\n",
        "  model=RandomForestClassifier(n_estimators=200)\n",
        "  model.fit(X_train,Y_train)\n",
        "  prob=np.array(model.predict(X_test),dtype=object)\n",
        "  # print(np.size(test_data),\" test data suize\")\n",
        "  y_pred=np.array(model.predict_proba(test_data))\n",
        "  # print\n",
        "  test_data_pred=np.concatenate((test_data_pred,y_pred),axis=1)\n",
        "  # print(np.size(y_pred))\n",
        "  # print(y_pred)\n",
        "  print(np.shape(y_pred))\n",
        "  count=0\n",
        "  size=np.size(prob)\n",
        "  for i in range(0,size):\n",
        "    if(prob[i]==Y_test[i]):\n",
        "      count+=1\n",
        "  accuracy=count/size    \n",
        "  acc.append(accuracy)\n",
        "  print(\"accuracy_score: \", accuracy)\n",
        "  print(\"\")\n",
        "mean_accuracy=np.mean(acc)\n",
        "print(\"mean_accuracy: \",mean_accuracy)    \n",
        "  # print(np.size(prob),np.size(Y_test))\n",
        "  # print(metrics.accuracy_score(Y_test,prob))\n"
      ],
      "execution_count": 0,
      "outputs": [
        {
          "output_type": "stream",
          "text": [
            "400277\n",
            "(50064, 37)\n",
            "accuracy_score:  0.85195363245728\n",
            "\n",
            "400277\n",
            "(50064, 11)\n",
            "accuracy_score:  0.9611771759768162\n",
            "\n",
            "400277\n",
            "(50064, 3)\n",
            "accuracy_score:  0.9823623463575497\n",
            "\n",
            "400277\n",
            "(50064, 25)\n",
            "accuracy_score:  0.9613770360747477\n",
            "\n",
            "400277\n"
          ],
          "name": "stdout"
        }
      ]
    },
    {
      "cell_type": "code",
      "metadata": {
        "id": "19o-5YGHjkVy",
        "colab_type": "code",
        "outputId": "7f46b048-3614-408e-eed8-5e1a134f0a8a",
        "colab": {
          "base_uri": "https://localhost:8080/",
          "height": 238
        }
      },
      "source": [
        "test_data_pred"
      ],
      "execution_count": 0,
      "outputs": [
        {
          "output_type": "execute_result",
          "data": {
            "text/plain": [
              "array([[1.80042e+05, 1.50000e-02, 1.50000e-02, ..., 1.13750e-01,\n",
              "        6.50000e-02, 1.00000e-02],\n",
              "       [2.88720e+04, 4.00000e-02, 5.00000e-02, ..., 1.75000e-01,\n",
              "        2.50000e-01, 0.00000e+00],\n",
              "       [1.86915e+05, 1.50000e-02, 5.00000e-03, ..., 6.00000e-02,\n",
              "        9.50000e-02, 0.00000e+00],\n",
              "       ...,\n",
              "       [2.32204e+05, 1.15000e-01, 4.00000e-02, ..., 1.40000e-01,\n",
              "        6.37500e-02, 0.00000e+00],\n",
              "       [1.71685e+05, 1.15000e-01, 4.00000e-02, ..., 1.40000e-01,\n",
              "        6.37500e-02, 0.00000e+00],\n",
              "       [2.49087e+05, 1.15000e-01, 4.00000e-02, ..., 1.40000e-01,\n",
              "        6.37500e-02, 0.00000e+00]])"
            ]
          },
          "metadata": {
            "tags": []
          },
          "execution_count": 44
        }
      ]
    },
    {
      "cell_type": "code",
      "metadata": {
        "id": "v4dWAjHAxilP",
        "colab_type": "code",
        "colab": {}
      },
      "source": [
        "import csv\n",
        "# name of csv file  \n",
        "filename = \"submission_randomforest.csv\"\n",
        "    \n",
        "# writing to csv file  \n",
        "with open(filename, 'w') as csvfile:  \n",
        "    # creating a csv writer object  \n",
        "    csvwriter = csv.writer(csvfile)  \n",
        "        \n",
        "    # writing the fields  \n",
        "    csvwriter.writerow(output_fields)  \n",
        "        \n",
        "    # writing the data rows  \n",
        "    csvwriter.writerows(test_data_pred)"
      ],
      "execution_count": 0,
      "outputs": []
    },
    {
      "cell_type": "code",
      "metadata": {
        "id": "Yrchqwiz4ThN",
        "colab_type": "code",
        "colab": {}
      },
      "source": [
        ""
      ],
      "execution_count": 0,
      "outputs": []
    }
  ]
}