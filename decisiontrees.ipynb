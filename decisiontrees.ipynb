{
  "nbformat": 4,
  "nbformat_minor": 0,
  "metadata": {
    "colab": {
      "name": "decisiontrees",
      "provenance": [],
      "include_colab_link": true
    },
    "kernelspec": {
      "name": "python3",
      "display_name": "Python 3"
    }
  },
  "cells": [
    {
      "cell_type": "markdown",
      "metadata": {
        "id": "view-in-github",
        "colab_type": "text"
      },
      "source": [
        "<a href=\"https://colab.research.google.com/github/SandeepNidumukkala/REBOOT-BOX-PLOT-FOR-EDUCATION/blob/master/decisiontrees.ipynb\" target=\"_parent\"><img src=\"https://colab.research.google.com/assets/colab-badge.svg\" alt=\"Open In Colab\"/></a>"
      ]
    },
    {
      "cell_type": "code",
      "metadata": {
        "id": "K4JZU28B82fd",
        "colab_type": "code",
        "colab": {}
      },
      "source": [
        "import sys\n",
        "import sklearn\n",
        "import numpy as np\n",
        "import zipfile\n",
        "import pandas as pd\n",
        "import matplotlib as plt\n",
        "from sklearn.preprocessing import LabelEncoder,OneHotEncoder\n",
        "import urllib.request"
      ],
      "execution_count": 0,
      "outputs": []
    },
    {
      "cell_type": "code",
      "metadata": {
        "id": "idZtPdVa9d74",
        "colab_type": "code",
        "colab": {}
      },
      "source": [
        "trainUrl = 'https://s3.amazonaws.com/drivendata-prod/data/4/public/81e8f2de-9915-4934-b9ae-9705685c9d50.csv'"
      ],
      "execution_count": 0,
      "outputs": []
    },
    {
      "cell_type": "code",
      "metadata": {
        "id": "lmzy3Dhd9f2M",
        "colab_type": "code",
        "colab": {}
      },
      "source": [
        "testUrl = \"https://s3.amazonaws.com/drivendata-prod/data/4/public/d0fcd6d3-5bc5-4869-b4e6-d12ecb2ff517.csv\""
      ],
      "execution_count": 0,
      "outputs": []
    },
    {
      "cell_type": "code",
      "metadata": {
        "id": "uzle9EOt9hsg",
        "colab_type": "code",
        "outputId": "60654bc4-2c8b-4136-d010-9fced75b86e4",
        "colab": {
          "base_uri": "https://localhost:8080/",
          "height": 74
        }
      },
      "source": [
        "with urllib.request.urlopen(trainUrl) as dl_file:\n",
        "  train = pd.read_csv(dl_file)\n",
        "with urllib.request.urlopen(testUrl) as dl_file:\n",
        "  test = pd.read_csv(dl_file)"
      ],
      "execution_count": 0,
      "outputs": [
        {
          "output_type": "stream",
          "text": [
            "/usr/local/lib/python3.6/dist-packages/IPython/core/interactiveshell.py:2718: DtypeWarning: Columns (5,11) have mixed types.Specify dtype option on import or set low_memory=False.\n",
            "  interactivity=interactivity, compiler=compiler, result=result)\n"
          ],
          "name": "stderr"
        }
      ]
    },
    {
      "cell_type": "code",
      "metadata": {
        "id": "0CQhbqqp9miL",
        "colab_type": "code",
        "colab": {}
      },
      "source": [
        "training_data = train[['Facility_or_Department', 'Function_Description','Fund_Description',\n",
        "                       'Job_Title_Description', 'Location_Description','Object_Description',\n",
        "                       'Position_Extra', 'Program_Description', 'SubFund_Description',\n",
        "                       'Sub_Object_Description', 'Text_1', 'Text_2','Text_3','Text_4', 'Total','FTE']]\n",
        "\n",
        "labels = (train[['Function','Object_Type','Operating_Status','Position_Type','Pre_K', 'Reporting',\n",
        "                'Sharing','Student_Type', 'Use']])\n",
        "\n",
        "test_data = test[['Facility_or_Department', 'Function_Description','Fund_Description',\n",
        "                       'Job_Title_Description', 'Location_Description','Object_Description',\n",
        "                       'Position_Extra', 'Program_Description', 'SubFund_Description',\n",
        "                       'Sub_Object_Description', 'Text_1', 'Text_2','Text_3','Text_4', 'Total','FTE']]\n",
        "labels_fields=['Function','Object_Type','Operating_Status','Position_Type','Pre_K', 'Reporting',\n",
        "                'Sharing','Student_Type', 'Use']"
      ],
      "execution_count": 0,
      "outputs": []
    },
    {
      "cell_type": "code",
      "metadata": {
        "id": "AH2PWNer9pCq",
        "colab_type": "code",
        "colab": {}
      },
      "source": [
        "training_data=training_data.drop(['Total'],axis=1)\n",
        "training_data=training_data.drop(['FTE'],axis=1)\n",
        "\n",
        "test_data=test_data.drop(['Total'], axis = 1)\n",
        "test_data=test_data.drop(['FTE'], axis = 1)"
      ],
      "execution_count": 0,
      "outputs": []
    },
    {
      "cell_type": "code",
      "metadata": {
        "id": "pPEKkDs19uvE",
        "colab_type": "code",
        "outputId": "ac771fc7-58fc-4e44-f4a1-fdc95400ed92",
        "colab": {
          "base_uri": "https://localhost:8080/",
          "height": 127
        }
      },
      "source": [
        "for i in range(training_data.shape[1]):\n",
        "    labelencoder_X=LabelEncoder();\n",
        "    # type(training_data.iloc[:,i])\n",
        "    training_data.iloc[:,i] = training_data.iloc[:,i].astype(str)\n",
        "    training_data.iloc[:,i] = training_data.iloc[:,i].str.replace('[^\\w\\s]','')\n",
        "    training_data.iloc[:,i] = labelencoder_X.fit_transform(training_data.iloc[:,i])\n",
        "\n",
        "for i in range(labels.shape[1]):\n",
        "    labelencoder_X=LabelEncoder();\n",
        "    labels.iloc[:,i] = labels.iloc[:,i].astype(str)\n",
        "    labels.iloc[:,i] = labels.iloc[:,i].str.replace('[^\\w\\s]','')\n",
        "    labels.iloc[:,i] = labelencoder_X.fit_transform(labels.iloc[:,i])\n",
        "\n",
        "for i in range(test_data.shape[1]):\n",
        "    labelencoder_X=LabelEncoder();\n",
        "    test_data.iloc[:,i] = test_data.iloc[:,i].astype(str)\n",
        "    test_data.iloc[:,i] = test_data.iloc[:,i].str.replace('[^\\w\\s]','')\n",
        "    test_data.iloc[:,i] = labelencoder_X.fit_transform(test_data.iloc[:,i])\n"
      ],
      "execution_count": 0,
      "outputs": [
        {
          "output_type": "stream",
          "text": [
            "/usr/local/lib/python3.6/dist-packages/pandas/core/indexing.py:966: SettingWithCopyWarning: \n",
            "A value is trying to be set on a copy of a slice from a DataFrame.\n",
            "Try using .loc[row_indexer,col_indexer] = value instead\n",
            "\n",
            "See the caveats in the documentation: https://pandas.pydata.org/pandas-docs/stable/user_guide/indexing.html#returning-a-view-versus-a-copy\n",
            "  self.obj[item] = s\n"
          ],
          "name": "stderr"
        }
      ]
    },
    {
      "cell_type": "code",
      "metadata": {
        "id": "gk0_vh0T-pbl",
        "colab_type": "code",
        "outputId": "a7d303e2-62ba-4ad8-f698-b67f92c2dc66",
        "colab": {
          "base_uri": "https://localhost:8080/",
          "height": 74
        }
      },
      "source": [
        "with urllib.request.urlopen(testUrl) as dl_file:\n",
        "  test1 = pd.read_csv(dl_file)"
      ],
      "execution_count": 0,
      "outputs": [
        {
          "output_type": "stream",
          "text": [
            "/usr/local/lib/python3.6/dist-packages/IPython/core/interactiveshell.py:2718: DtypeWarning: Columns (5,11) have mixed types.Specify dtype option on import or set low_memory=False.\n",
            "  interactivity=interactivity, compiler=compiler, result=result)\n"
          ],
          "name": "stderr"
        }
      ]
    },
    {
      "cell_type": "code",
      "metadata": {
        "id": "PbUz6NuH-smo",
        "colab_type": "code",
        "colab": {}
      },
      "source": [
        "test = test.rename(columns={'Unnamed: 0': 'Identification_number'})"
      ],
      "execution_count": 0,
      "outputs": []
    },
    {
      "cell_type": "code",
      "metadata": {
        "id": "TlYi7BAx-vmP",
        "colab_type": "code",
        "colab": {}
      },
      "source": [
        "test_data1 = test[['Identification_number','Facility_or_Department', 'Function_Description','Fund_Description',\n",
        "                       'Job_Title_Description', 'Location_Description','Object_Description',\n",
        "                       'Position_Extra', 'Program_Description', 'SubFund_Description',\n",
        "                       'Sub_Object_Description', 'Text_1', 'Text_2','Text_3','Text_4', 'Total','FTE']]\n",
        "labels1 = (train[['Function','Object_Type','Operating_Status','Position_Type','Pre_K', 'Reporting',\n",
        "                'Sharing','Student_Type', 'Use']])"
      ],
      "execution_count": 0,
      "outputs": []
    },
    {
      "cell_type": "code",
      "metadata": {
        "id": "IAyhNaxC-zGx",
        "colab_type": "code",
        "colab": {}
      },
      "source": [
        "test_data_pred=test_data1.iloc[:,0].values"
      ],
      "execution_count": 0,
      "outputs": []
    },
    {
      "cell_type": "code",
      "metadata": {
        "id": "3oifykAG-1v7",
        "colab_type": "code",
        "outputId": "787c86a8-814c-474d-ecaa-aa57c9fc2d87",
        "colab": {
          "base_uri": "https://localhost:8080/",
          "height": 239
        }
      },
      "source": [
        "output_fields=['']\n",
        "for i in range(9):\n",
        "  y=labels1.iloc[:,i].values\n",
        "  unique=np.unique(y)\n",
        "  print(np.shape(unique))\n",
        "  str=labels_fields[i]\n",
        "  for i in unique:\n",
        "    output_fields.append(str+'_'+i)\n",
        "print(output_fields)\n",
        "print(len(output_fields)) "
      ],
      "execution_count": 0,
      "outputs": [
        {
          "output_type": "stream",
          "text": [
            "(37,)\n",
            "(11,)\n",
            "(3,)\n",
            "(25,)\n",
            "(3,)\n",
            "(3,)\n",
            "(5,)\n",
            "(9,)\n",
            "(8,)\n",
            "['', 'Function_Aides Compensation', 'Function_Career & Academic Counseling', 'Function_Communications', 'Function_Curriculum Development', 'Function_Data Processing & Information Services', 'Function_Development & Fundraising', 'Function_Enrichment', 'Function_Extended Time & Tutoring', 'Function_Facilities & Maintenance', 'Function_Facilities Planning', 'Function_Finance, Budget, Purchasing & Distribution', 'Function_Food Services', 'Function_Governance', 'Function_Human Resources', 'Function_Instructional Materials & Supplies', 'Function_Insurance', 'Function_Legal', 'Function_Library & Media', 'Function_NO_LABEL', 'Function_Other Compensation', 'Function_Other Non-Compensation', 'Function_Parent & Community Relations', 'Function_Physical Health & Services', 'Function_Professional Development', 'Function_Recruitment', 'Function_Research & Accountability', 'Function_School Administration', 'Function_School Supervision', 'Function_Security & Safety', 'Function_Social & Emotional', 'Function_Special Population Program Management & Support', 'Function_Student Assignment', 'Function_Student Transportation', 'Function_Substitute Compensation', 'Function_Teacher Compensation', 'Function_Untracked Budget Set-Aside', 'Function_Utilities', 'Object_Type_Base Salary/Compensation', 'Object_Type_Benefits', 'Object_Type_Contracted Services', 'Object_Type_Equipment & Equipment Lease', 'Object_Type_NO_LABEL', 'Object_Type_Other Compensation/Stipend', 'Object_Type_Other Non-Compensation', 'Object_Type_Rent/Utilities', 'Object_Type_Substitute Compensation', 'Object_Type_Supplies/Materials', 'Object_Type_Travel & Conferences', 'Operating_Status_Non-Operating', 'Operating_Status_Operating, Not PreK-12', 'Operating_Status_PreK-12 Operating', 'Position_Type_(Exec) Director', 'Position_Type_Area Officers', 'Position_Type_Club Advisor/Coach', 'Position_Type_Coordinator/Manager', 'Position_Type_Custodian', 'Position_Type_Guidance Counselor', 'Position_Type_Instructional Coach', 'Position_Type_Librarian', 'Position_Type_NO_LABEL', 'Position_Type_Non-Position', 'Position_Type_Nurse', 'Position_Type_Nurse Aide', 'Position_Type_Occupational Therapist', 'Position_Type_Other', 'Position_Type_Physical Therapist', 'Position_Type_Principal', 'Position_Type_Psychologist', 'Position_Type_School Monitor/Security', 'Position_Type_Sec/Clerk/Other Admin', 'Position_Type_Social Worker', 'Position_Type_Speech Therapist', 'Position_Type_Substitute', 'Position_Type_TA', 'Position_Type_Teacher', 'Position_Type_Vice Principal', 'Pre_K_NO_LABEL', 'Pre_K_Non PreK', 'Pre_K_PreK', 'Reporting_NO_LABEL', 'Reporting_Non-School', 'Reporting_School', 'Sharing_Leadership & Management', 'Sharing_NO_LABEL', 'Sharing_School Reported', 'Sharing_School on Central Budgets', 'Sharing_Shared Services', 'Student_Type_Alternative', 'Student_Type_At Risk', 'Student_Type_ELL', 'Student_Type_Gifted', 'Student_Type_NO_LABEL', 'Student_Type_Poverty', 'Student_Type_PreK', 'Student_Type_Special Education', 'Student_Type_Unspecified', 'Use_Business Services', 'Use_ISPD', 'Use_Instruction', 'Use_Leadership', 'Use_NO_LABEL', 'Use_O&M', 'Use_Pupil Services & Enrichment', 'Use_Untracked Budget Set-Aside']\n",
            "105\n"
          ],
          "name": "stdout"
        }
      ]
    },
    {
      "cell_type": "code",
      "metadata": {
        "id": "du5_9lEh-4zv",
        "colab_type": "code",
        "outputId": "f97785b4-0620-446a-d42f-ba1641c2d28b",
        "colab": {
          "base_uri": "https://localhost:8080/",
          "height": 35
        }
      },
      "source": [
        "test_data_pred.resize((50064,1))\n",
        "np.shape(test_data_pred)\n"
      ],
      "execution_count": 0,
      "outputs": [
        {
          "output_type": "execute_result",
          "data": {
            "text/plain": [
              "(50064, 1)"
            ]
          },
          "metadata": {
            "tags": []
          },
          "execution_count": 16
        }
      ]
    },
    {
      "cell_type": "code",
      "metadata": {
        "id": "wW4lxmEG9wwj",
        "colab_type": "code",
        "colab": {}
      },
      "source": [
        "from sklearn.model_selection import train_test_split\n",
        "from sklearn.tree import DecisionTreeClassifier\n",
        "from sklearn.metrics import accuracy_score\n",
        "from sklearn import tree\n",
        "from sklearn.preprocessing import StandardScaler"
      ],
      "execution_count": 0,
      "outputs": []
    },
    {
      "cell_type": "code",
      "metadata": {
        "id": "hhRJHeX7-9OR",
        "colab_type": "code",
        "outputId": "1b770736-ec33-4601-9985-a60574a734be",
        "colab": {
          "base_uri": "https://localhost:8080/",
          "height": 531
        }
      },
      "source": [
        "acc=[]\n",
        "# test_data_pred=np.reshape(50064,1)\n",
        "prob=[]\n",
        "for i in range(0,9):\n",
        "  #retrieve every value of training data\n",
        "  x=training_data.iloc[:,0:14].values\n",
        "  # print(\"x size\",len(x),x[0])\n",
        "  #retriving the values of first label\n",
        "  y=labels.iloc[:,i].values\n",
        "  print(np.size(y))\n",
        "  sc=StandardScaler()\n",
        "  X_train,X_test,Y_train,Y_test=train_test_split(x,y,test_size=0.3)\n",
        "  X_train=sc.fit_transform(X_train)\n",
        "  X_test=sc.fit_transform(X_test)\n",
        "  test_data=sc.fit_transform(test_data)\n",
        "  model=DecisionTreeClassifier(criterion='entropy',random_state=100,max_depth=5,min_samples_leaf=8)\n",
        "  model.fit(X_train,Y_train)\n",
        "  prob=np.array(model.predict(X_test),dtype=object)\n",
        "  # print(np.size(test_data),\" test data suize\")\n",
        "  y_pred=np.array(model.predict_proba(test_data))\n",
        "  # print\n",
        "  test_data_pred=np.concatenate((test_data_pred,y_pred),axis=1)\n",
        "  # print(np.size(y_pred))\n",
        "  # print(y_pred)\n",
        "  # print(np.shape(y_pred))\n",
        "  count=0\n",
        "  size=np.size(prob)\n",
        "  for i in range(0,size):\n",
        "    if(prob[i]==Y_test[i]):\n",
        "      count+=1\n",
        "  accuracy=count/size    \n",
        "  acc.append(accuracy)\n",
        "  print(\"accuracy_score: \", accuracy)\n",
        "  print(\"\")\n",
        "mean_accuracy=np.mean(acc)\n",
        "print(\"mean_accuracy: \",mean_accuracy)    \n",
        "  # print(np.size(prob),np.size(Y_test))\n",
        "  # print(metrics.accuracy_score(Y_test,prob))\n"
      ],
      "execution_count": 0,
      "outputs": [
        {
          "output_type": "stream",
          "text": [
            "400277\n",
            "accuracy_score:  0.5667449452050232\n",
            "\n",
            "400277\n",
            "accuracy_score:  0.6439075980147231\n",
            "\n",
            "400277\n",
            "accuracy_score:  0.9474034842277073\n",
            "\n",
            "400277\n",
            "accuracy_score:  0.6920155890876386\n",
            "\n",
            "400277\n",
            "accuracy_score:  0.9562472935611739\n",
            "\n",
            "400277\n",
            "accuracy_score:  0.8009393424602778\n",
            "\n",
            "400277\n",
            "accuracy_score:  0.6697311881682823\n",
            "\n",
            "400277\n",
            "accuracy_score:  0.7870407381499617\n",
            "\n",
            "400277\n",
            "accuracy_score:  0.6938642949935045\n",
            "\n",
            "mean_accuracy:  0.7508771637631436\n"
          ],
          "name": "stdout"
        }
      ]
    },
    {
      "cell_type": "code",
      "metadata": {
        "id": "zpwfk6DHBHys",
        "colab_type": "code",
        "colab": {}
      },
      "source": [
        "\n",
        "import csv\n",
        "# name of csv file  \n",
        "filename = \"submission6.csv\"\n",
        "    \n",
        "# writing to csv file  \n",
        "with open(filename, 'w') as csvfile:  \n",
        "    # creating a csv writer object  \n",
        "    csvwriter = csv.writer(csvfile)  \n",
        "        \n",
        "    # writing the fields  \n",
        "    csvwriter.writerow(output_fields)  \n",
        "        \n",
        "    # writing the data rows  \n",
        "    csvwriter.writerows(test_data_pred)"
      ],
      "execution_count": 0,
      "outputs": []
    },
    {
      "cell_type": "code",
      "metadata": {
        "id": "KrzWRmHeM7c3",
        "colab_type": "code",
        "colab": {}
      },
      "source": [
        ""
      ],
      "execution_count": 0,
      "outputs": []
    }
  ]
}